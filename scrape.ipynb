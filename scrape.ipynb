{
 "cells": [
  {
   "cell_type": "code",
   "execution_count": 49,
   "metadata": {},
   "outputs": [],
   "source": [
    "import requests\n",
    "import pandas as pd\n",
    "import json\n",
    "from pathlib import Path\n",
    "from datetime import datetime\n",
    "import re\n"
   ]
  },
  {
   "cell_type": "code",
   "execution_count": 50,
   "metadata": {},
   "outputs": [],
   "source": [
    "## USER CONFIG\n",
    "VIDEO_LINK=\"https://www.tiktok.com/@naraazizasmith/video/7383050913730268462\"\n",
    "SCRAPE_COUNT=20\n",
    "RETRY_COUNT=3\n",
    "THREAD_COUNT=10\n",
    "SAVE_PATH = Path(\"data\")\n"
   ]
  },
  {
   "cell_type": "markdown",
   "metadata": {},
   "source": [
    "# Scrape Manager"
   ]
  },
  {
   "cell_type": "code",
   "execution_count": 70,
   "metadata": {},
   "outputs": [],
   "source": [
    "def scrape_handler(aweme_id, scrape_count, curr):\n",
    "  url = f\"https://www.tiktok.com/api/comment/list/?aweme_id={aweme_id}&count={scrape_count}&cursor={curr}\"\n",
    "  payload = {}\n",
    "  headers = {\n",
    "    'accept': '*/*',\n",
    "    'accept-language': 'en-US,en;q=0.9',\n",
    "    'dnt': '1',\n",
    "    'priority': 'u=1, i',\n",
    "    'sec-ch-ua': '\"Not/A)Brand\";v=\"8\", \"Chromium\";v=\"126\"',\n",
    "    'sec-ch-ua-mobile': '?0',\n",
    "    'sec-ch-ua-platform': '\"macOS\"',\n",
    "    'sec-fetch-dest': 'empty',\n",
    "    'sec-fetch-mode': 'cors',\n",
    "    'sec-fetch-site': 'same-origin',\n",
    "    'user-agent': 'Mozilla/5.0 (Macintosh; Intel Mac OS X 10_15_7) AppleWebKit/537.36 (KHTML, like Gecko) Chrome/126.0.0.0 Safari/537.36'\n",
    "  }\n",
    "\n",
    "  try:\n",
    "    response = requests.request(\"GET\", url, headers=headers, data=payload)\n",
    "    data_json = json.loads(response.text)\n",
    "    data = [comment[\"text\"] for comment in data_json[\"comments\"]]\n",
    "    has_more = bool(data_json[\"has_more\"])\n",
    "    return data, has_more\n",
    "  \n",
    "  except Exception as e:\n",
    "    print(e)\n",
    "    return None,1\n"
   ]
  },
  {
   "cell_type": "code",
   "execution_count": 68,
   "metadata": {},
   "outputs": [],
   "source": [
    "def scrape_manager(video_link, scrape_count, retry_count):\n",
    "    aweme_id = re.search(r\"video\\/([0-9]*)\", video_link).group(1)\n",
    "    comments = []\n",
    "    retries = 0\n",
    "    curr = 0\n",
    "    has_more = True\n",
    "\n",
    "    while has_more and retries < retry_count:\n",
    "        data, has_more = scrape_handler(aweme_id, scrape_count, curr)\n",
    "        if data == None:\n",
    "            retries += 1\n",
    "            continue\n",
    "        else:\n",
    "            comments.extend(data)\n",
    "            curr += scrape_count\n",
    "            retries = 0\n",
    "    \n",
    "    \n",
    "    out = {\n",
    "        \"link\": video_link,\n",
    "        \"comment_count\": len(comments),\n",
    "        \"time_scraped\": datetime.now().strftime(\"%d/%m/%Y, %H:%M:%S\"),\n",
    "        \"comments\": comments\n",
    "    }\n",
    "\n",
    "    with open(SAVE_PATH / (aweme_id + \".json\"), \"w\") as f:        \n",
    "        json.dump(out, f, ensure_ascii=False, indent=4)\n",
    "    "
   ]
  },
  {
   "cell_type": "code",
   "execution_count": 63,
   "metadata": {},
   "outputs": [],
   "source": [
    "scrape_manager(VIDEO_LINK, SCRAPE_COUNT, RETRY_COUNT)"
   ]
  },
  {
   "cell_type": "markdown",
   "metadata": {},
   "source": [
    "# Batch Processing"
   ]
  },
  {
   "cell_type": "code",
   "execution_count": 72,
   "metadata": {},
   "outputs": [],
   "source": [
    "video_links = [#\"https://www.tiktok.com/@youcureofficial/video/7363477383309053226\",\n",
    "               #\"https://www.tiktok.com/@blogilates/video/7118207082913942826\",\n",
    "               #\"https://www.tiktok.com/@blogilates/video/7370460897103449386\",\n",
    "               \"https://www.tiktok.com/@youcureofficial/video/7384306298176785707\",\n",
    "               \"https://www.tiktok.com/@naraazizasmith/video/7382679252577029422\"]\n",
    "\n",
    "\n",
    "for link in video_links:\n",
    "    scrape_manager(link, SCRAPE_COUNT, RETRY_COUNT)\n",
    "    \n"
   ]
  }
 ],
 "metadata": {
  "kernelspec": {
   "display_name": "venv",
   "language": "python",
   "name": "python3"
  },
  "language_info": {
   "codemirror_mode": {
    "name": "ipython",
    "version": 3
   },
   "file_extension": ".py",
   "mimetype": "text/x-python",
   "name": "python",
   "nbconvert_exporter": "python",
   "pygments_lexer": "ipython3",
   "version": "3.12.3"
  }
 },
 "nbformat": 4,
 "nbformat_minor": 2
}
