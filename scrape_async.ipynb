{
 "cells": [
  {
   "cell_type": "code",
   "execution_count": 7,
   "metadata": {},
   "outputs": [],
   "source": [
    "import pandas as pd\n",
    "import json\n",
    "from pathlib import Path\n",
    "from datetime import datetime\n",
    "import re\n",
    "import aiohttp\n",
    "import asyncio"
   ]
  },
  {
   "cell_type": "code",
   "execution_count": 8,
   "metadata": {},
   "outputs": [],
   "source": [
    "## USER CONFIG\n",
    "VIDEO_LINK=\"https://www.tiktok.com/@naraazizasmith/video/7383050913730268462\"\n",
    "AWEME_ID=re.search(r\"video\\/([0-9]*)\", VIDEO_LINK).group(1)\n",
    "SCRAPE_COUNT=20\n",
    "RETRY_COUNT=3\n",
    "SAVE_PATH = Path(\"data\")\n",
    "WORKER_COUNT = 10\n",
    "\n",
    "#COOKIE=\"ttwid=1%7C06YVqZds-vDuFGaza4icvcKlm7oGEKC5O9Vb56WvJww%7C1718283319%7Cbb26938c38faba144f75b66ddef7f84cff1baf4baa6ba00f4ef925fa077a7074; tta_attr_id_mirror=0.1718378380.7380378944270254096; _ttp=2hwfvgmLMGZv1VpEWfByAlNnxu2; tt_csrf_token=RBkAulWq-Rzl6nXqAL_b82s0Z6DiXLR5VQy8; tt_chain_token=hpXIWea/f/lfpqvxQoZ4ZQ==; ak_bmsc=C3040858500D4E08A0698F575DE4AE96~000000000000000000000000000000~YAAQDL4vF76Kd2SQAQAAVPI1aRj4ywl2G99Du/lhkzxSnEJludEmh2YMSI39AH3iMlJ8E8wCrYqoU01L7wi+DSfwF9obeqPkr9bPgdJfsHXA1MRoS+Byz+p4wFdD2JxStOOe3WNPwgil4tmdyUzVNfNHiQvYcSoUPIkYs2WxIjqm52SbX4vmPoKOoxB5zCR4jzKiKXLyVkVXWnKawmE2KQ0Q2NW5xdz5fsucOhPPjf2UdKExn0Edsr9t6SPiM0Gok7toPFe3lN47MI5Yiy2bv/kND2Rx2EosW1vcy+g1fuffzFv4D96lZrsYuFwV6K1j2+wEQ04lR6W2fdGFRwkiXApHa+A8jyFulHvjxgdbAP+BsHIuTZBTWPR55TEdGUDQutUoEfLNG3eLV6Y=; tiktok_webapp_theme_auto_dark_ab=1; tiktok_webapp_theme_source=system; tiktok_webapp_theme=dark; odin_tt=a073ce0f38906e4ebdcd0667cc367609645a4c685e83b622c9701fef6790aab99829a701ec73a7c5e906290fed8c552e9156e3366b1181985f53347598f1bbe81724a9ed0dad86b90225cc17083685d1; perf_feed_cache={%22expireTimestamp%22:1719770400000%2C%22itemIds%22:[%227379800076928978197%22%2C%227366446843737148673%22%2C%227367214984067108097%22]}; passport_csrf_token=4355c3bb9d4ced365a971d9300a275e6; passport_csrf_token_default=4355c3bb9d4ced365a971d9300a275e6; msToken=xH27jnaqkq0JG51BFTrUmD4Z7rtUFpI9FkQ8GTGGWP3SG-5Ute_z1y4YIAtZ5t-AU7l75HFJ_RKOa0JGhNb6JQVkVKQ7L_tA2zb_CgMkh20vL_Q_j9MNDBVXgqNPkelJ2FB-NLe0r3Fl-q9h5iF7Cw==; bm_sv=23AE16991FDB13D89653593B7C01065D~YAAQ5VA7F9QF3VSQAQAAkTl3aRii4qTModbUhEo5xctMsNp3cRTg3IM/28acULC6BWQGOd2dTUCPbJkafPQA1+J0Ss09YTf8kWTxQx928y4P9f42S5NVv4VELrMf9ga0P1FWn2w8lkD5Yak4e7ysH1jo7lDnphzAIY/ODSi8VlrJd8YPkoA3ixPaJKttwDwPyZSfLkkdTA0M7aS2LgDXmqeRb3b+CiA60gspLfPlzpkjPLfNuU6pyX8cdzHM6XRf~1; msToken=WmMzgL3upOtuptzRN3VY72qDBGcZnU_g9LaoEQo3_wTEC2eq3bGlpP6H-EDxYMbYuyX-e0KXz10l0aInfx_yD7UZLf4L03VFQ2n5N93LXmv3t0xku0eBc_PK7qObwnLYbO_x81xHQJKbgc6UHhYqJA==; msToken=hzTqftvJ-OVdKe36VBuMeYmTsLAoP0EHXhSR9OBeCxH-kn3vkvUvoP480Gg_yEpjUK0PB-6hr6CDFhadITgwlKaSTAYkK2Hrk_zOsnxuxigdQemotgeiXbDYvFhX2AX87kZ67Fj5Fw8EUfNCakDUhg==\"\n"
   ]
  },
  {
   "cell_type": "markdown",
   "metadata": {},
   "source": [
    "# Scrape Manager (Async)"
   ]
  },
  {
   "cell_type": "code",
   "execution_count": 3,
   "metadata": {},
   "outputs": [],
   "source": [
    "async def async_scrape_handler(aweme_id, scrape_count, curr, session):\n",
    "\n",
    "    # bring queue in\n",
    "    # use queue.get and queue.put here\n",
    "    \n",
    "    url = f\"https://www.tiktok.com/api/comment/list/?aweme_id={aweme_id}&count={scrape_count}&cursor={curr}\"\n",
    "    headers = {\n",
    "        'accept': '*/*',\n",
    "        'accept-language': 'en-US,en;q=0.9',\n",
    "        'dnt': '1',\n",
    "        'priority': 'u=1, i',\n",
    "        'sec-ch-ua': '\"Not/A)Brand\";v=\"8\", \"Chromium\";v=\"126\"',\n",
    "        'sec-ch-ua-mobile': '?0',\n",
    "        'sec-ch-ua-platform': '\"macOS\"',\n",
    "        'sec-fetch-dest': 'empty',\n",
    "        'sec-fetch-mode': 'cors',\n",
    "        'sec-fetch-site': 'same-origin',\n",
    "        'user-agent': 'Mozilla/5.0 (Macintosh; Intel Mac OS X 10_15_7) AppleWebKit/537.36 (KHTML, like Gecko) Chrome/126.0.0.0 Safari/537.36'\n",
    "    }\n",
    "\n",
    "\n",
    "    async with session.get(url) as response:\n",
    "        text = await response.text()\n",
    "        data_json = json.loads(text)\n",
    "        data = [comment[\"text\"] for comment in data_json[\"comments\"]]\n",
    "        has_more = bool(data_json[\"has_more\"])\n",
    "        return data, has_more\n",
    "        \n",
    "        "
   ]
  },
  {
   "cell_type": "code",
   "execution_count": 15,
   "metadata": {},
   "outputs": [],
   "source": [
    "\n",
    "async def async_scrape_manager():\n",
    "    queue = asyncio.Queue()\n",
    "\n",
    "    comments = []\n",
    "    retries = 0\n",
    "    index = 0\n",
    "    has_more = True\n",
    "\n",
    "    headers = {\n",
    "    'accept': '*/*',\n",
    "    'accept-language': 'en-US,en;q=0.9',\n",
    "    'dnt': '1',\n",
    "    'priority': 'u=1, i',\n",
    "    'sec-ch-ua': '\"Not/A)Brand\";v=\"8\", \"Chromium\";v=\"126\"',\n",
    "    'sec-ch-ua-mobile': '?0',\n",
    "    'sec-ch-ua-platform': '\"macOS\"',\n",
    "    'sec-fetch-dest': 'empty',\n",
    "    'sec-fetch-mode': 'cors',\n",
    "    'sec-fetch-site': 'same-origin',\n",
    "    'user-agent': 'Mozilla/5.0 (Macintosh; Intel Mac OS X 10_15_7) AppleWebKit/537.36 (KHTML, like Gecko) Chrome/126.0.0.0 Safari/537.36'\n",
    "  }\n",
    "    \n",
    "    for _ in range(20):\n",
    "        await queue.put(curr)\n",
    "        curr += SCRAPE_COUNT\n",
    "\n",
    "    async with aiohttp.ClientSession(headers=headers) as session:\n",
    "        worker = asyncio.create_task(async_scrape_handler(AWEME_ID, SCRAPE_COUNT, session, queue))\n",
    "\n",
    "        while not queue.empty():\n",
    "           \n",
    "           tasks.append(async_scrape_handler(AWEME_ID, SCRAPE_COUNT, , session))\n",
    "           curr += SCRAPE_COUNT\n",
    "           await queue.put(curr)\n",
    "        comments = await asyncio.gather(*tasks)\n",
    "        print(comments)\n",
    "\n"
   ]
  },
  {
   "cell_type": "code",
   "execution_count": 16,
   "metadata": {},
   "outputs": [],
   "source": [
    "await async_scrape_manager()"
   ]
  },
  {
   "cell_type": "markdown",
   "metadata": {},
   "source": [
    "# Take 2"
   ]
  },
  {
   "cell_type": "code",
   "execution_count": null,
   "metadata": {},
   "outputs": [],
   "source": [
    "async def async_scrape_handler(aweme_id, scrape_count, session, queue):\n",
    "\n",
    "    # bring queue in\n",
    "    # use queue.get and queue.put here\n",
    "    \n",
    "    url = f\"https://www.tiktok.com/api/comment/list/?aweme_id={aweme_id}&count={scrape_count}&cursor={curr}\"\n",
    "    headers = {\n",
    "        'accept': '*/*',\n",
    "        'accept-language': 'en-US,en;q=0.9',\n",
    "        'dnt': '1',\n",
    "        'priority': 'u=1, i',\n",
    "        'sec-ch-ua': '\"Not/A)Brand\";v=\"8\", \"Chromium\";v=\"126\"',\n",
    "        'sec-ch-ua-mobile': '?0',\n",
    "        'sec-ch-ua-platform': '\"macOS\"',\n",
    "        'sec-fetch-dest': 'empty',\n",
    "        'sec-fetch-mode': 'cors',\n",
    "        'sec-fetch-site': 'same-origin',\n",
    "        'user-agent': 'Mozilla/5.0 (Macintosh; Intel Mac OS X 10_15_7) AppleWebKit/537.36 (KHTML, like Gecko) Chrome/126.0.0.0 Safari/537.36'\n",
    "    }\n",
    "\n",
    "    while True:\n",
    "        async with session.get(url) as response:\n",
    "            text = await response.text()\n",
    "            data_json = json.loads(text)\n",
    "            data = [comment[\"text\"] for comment in data_json[\"comments\"]]\n",
    "            has_more = bool(data_json[\"has_more\"])\n",
    "            return data, has_more\n",
    "        \n",
    "        "
   ]
  },
  {
   "cell_type": "code",
   "execution_count": null,
   "metadata": {},
   "outputs": [],
   "source": [
    "\n",
    "async def async_scrape_manager():\n",
    "    queue = asyncio.Queue()\n",
    "    \n",
    "    headers = {\n",
    "    'accept': '*/*',\n",
    "    'accept-language': 'en-US,en;q=0.9',\n",
    "    'dnt': '1',\n",
    "    'priority': 'u=1, i',\n",
    "    'sec-ch-ua': '\"Not/A)Brand\";v=\"8\", \"Chromium\";v=\"126\"',\n",
    "    'sec-ch-ua-mobile': '?0',\n",
    "    'sec-ch-ua-platform': '\"macOS\"',\n",
    "    'sec-fetch-dest': 'empty',\n",
    "    'sec-fetch-mode': 'cors',\n",
    "    'sec-fetch-site': 'same-origin',\n",
    "    'user-agent': 'Mozilla/5.0 (Macintosh; Intel Mac OS X 10_15_7) AppleWebKit/537.36 (KHTML, like Gecko) Chrome/126.0.0.0 Safari/537.36'\n",
    "  }\n",
    "\n",
    "    async with aiohttp.ClientSession(headers=headers) as session:\n",
    "        async with asyncio.TaskGroup() as tg:\n",
    "          for _ in range(WORKER_COUNT):\n",
    "            tg.create_task(async_scrape_handler(AWEME_ID, SCRAPE_COUNT, session, queue))\n",
    "\n",
    "        while not queue.empty():\n",
    "           \n",
    "           tasks.append(async_scrape_handler(AWEME_ID, SCRAPE_COUNT, , session))\n",
    "           curr += SCRAPE_COUNT\n",
    "           await queue.put(curr)\n",
    "        comments = await asyncio.gather(*tasks)\n",
    "        print(comments)\n",
    "\n"
   ]
  },
  {
   "cell_type": "code",
   "execution_count": null,
   "metadata": {},
   "outputs": [],
   "source": [
    "await async_scrape_manager()"
   ]
  },
  {
   "cell_type": "code",
   "execution_count": 30,
   "metadata": {},
   "outputs": [],
   "source": [
    "import asyncio\n",
    "\n",
    "async def producer(queue):\n",
    "    for i in range(5):\n",
    "        await queue.put(i)\n",
    "        print(f'Produced {i}')\n",
    "\n",
    "async def consumer(queue):\n",
    "    while True:\n",
    "        item = await queue.get()\n",
    "        print(f'Consumed {item}')\n",
    "        queue.task_done()\n",
    "\n",
    "async def main():\n",
    "    queue = asyncio.Queue(maxsize=10)\n",
    "    await asyncio.gather(producer(queue), consumer(queue))\n",
    "\n"
   ]
  }
 ],
 "metadata": {
  "kernelspec": {
   "display_name": "venv",
   "language": "python",
   "name": "python3"
  },
  "language_info": {
   "codemirror_mode": {
    "name": "ipython",
    "version": 3
   },
   "file_extension": ".py",
   "mimetype": "text/x-python",
   "name": "python",
   "nbconvert_exporter": "python",
   "pygments_lexer": "ipython3",
   "version": "3.12.3"
  }
 },
 "nbformat": 4,
 "nbformat_minor": 2
}
